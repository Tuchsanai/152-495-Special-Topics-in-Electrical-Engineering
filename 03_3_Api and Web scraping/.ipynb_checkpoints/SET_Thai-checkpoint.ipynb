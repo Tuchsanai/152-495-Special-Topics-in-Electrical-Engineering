{
 "cells": [
  {
   "cell_type": "markdown",
   "id": "49f49913-d0f2-4266-921d-eba061210312",
   "metadata": {},
   "source": [
    "# สรุปข้อสนเทศบริษัทจดทะเบียน\n",
    "\n",
    "https://www.set.or.th/set/factsheet.do?symbol=PTT&ssoPageId=3&language=th&country=TH"
   ]
  },
  {
   "cell_type": "markdown",
   "id": "6a776e89-be02-44dd-9577-a89d1f94ae5b",
   "metadata": {},
   "source": [
    "<table class=\"table-factsheet-padding0\" cellspacing=\"0\" cellpadding=\"0\" width=\"100%\" border=\"0\">\n",
    "  <tbody><tr valign=\"middle\" align=\"left\">\n",
    "    <td class=\"factsheet-head\"><strong>ลักษณะธุรกิจ</strong></td>\n",
    "  </tr>\n",
    "  <tr>\n",
    "    <td class=\"factsheet\">ธุรกิจปิโตรเลียมและปิโตรเคมีครบวงจร โดยผ่านธุรกิจที่ดำเนินงานเองและธุรกิจที่ลงทุนผ่านบริษัทในกลุ่ม ได้แก่ การสำรวจและผลิต จัดหาและจัดจำหน่าย ขนส่ง และแยกก๊าซธรรมชาติ ดำเนินกิจการค้าระหว่างประเทศสำหรับผลิตภัณฑ์น้ำมันและปิโตรเคมี และมีการลงทุนในธุรกิจการกลั่นและปิโตรเคมีในประเทศ และดำเนินธุรกิจที่เกี่ยวข้องอื่นๆ ทั้งในและต่างประเทศ</td>\n",
    "  </tr>\n",
    "</tbody></table>"
   ]
  },
  {
   "cell_type": "code",
   "execution_count": 3,
   "id": "761b79e5-da78-42dd-ae58-367c8c79f1e1",
   "metadata": {},
   "outputs": [
    {
     "name": "stdout",
     "output_type": "stream",
     "text": [
      "Collecting beautifulsoup4\n",
      "  Downloading beautifulsoup4-4.10.0-py3-none-any.whl (97 kB)\n",
      "\u001b[K     |████████████████████████████████| 97 kB 2.3 MB/s eta 0:00:011\n",
      "\u001b[?25hCollecting soupsieve>1.2\n",
      "  Downloading soupsieve-2.2.1-py3-none-any.whl (33 kB)\n",
      "Installing collected packages: soupsieve, beautifulsoup4\n",
      "Successfully installed beautifulsoup4-4.10.0 soupsieve-2.2.1\n"
     ]
    }
   ],
   "source": [
    "# Install beautifulsoup4\n",
    "!pip install beautifulsoup4"
   ]
  },
  {
   "cell_type": "code",
   "execution_count": 1,
   "id": "11222dfb-b57f-46b0-bf70-3871234e6c97",
   "metadata": {},
   "outputs": [],
   "source": [
    "from bs4 import BeautifulSoup\n",
    "import requests\n",
    "import pandas as pd"
   ]
  },
  {
   "cell_type": "code",
   "execution_count": 16,
   "id": "4b1c4426-0107-4607-a98a-8e5e38bef1c2",
   "metadata": {},
   "outputs": [],
   "source": [
    "url = 'https://www.set.or.th/set/factsheet.do?symbol=PTT&ssoPageId=3&language=th&country=TH'\n",
    "\n",
    "html = requests.get(url)\n",
    "bs = BeautifulSoup(html.content, \"html.parser\")\n",
    "#print(bs.prettify())"
   ]
  },
  {
   "cell_type": "code",
   "execution_count": 32,
   "id": "b5c35cca-5c55-4d9a-8ed2-0e8942cc40f4",
   "metadata": {},
   "outputs": [
    {
     "name": "stdout",
     "output_type": "stream",
     "text": [
      "ธุรกิจปิโตรเลียมและปิโตรเคมีครบวงจร โดยผ่านธุรกิจที่ดำเนินงานเองและธุรกิจที่ลงทุนผ่านบริษัทในกลุ่ม ได้แก่ การสำรวจและผลิต จัดหาและจัดจำหน่าย ขนส่ง และแยกก๊าซธรรมชาติ ดำเนินกิจการค้าระหว่างประเทศสำหรับผลิตภัณฑ์น้ำมันและปิโตรเคมี และมีการลงทุนในธุรกิจการกลั่นและปิโตรเคมีในประเทศ และดำเนินธุรกิจที่เกี่ยวข้องอื่นๆ ทั้งในและต่างประเทศ\n"
     ]
    }
   ],
   "source": [
    "result_findall = bs.find_all('table',{\"border\":\"0\" ,\"cellpadding\":\"0\", \"cellspacing\":\"0\",\"class\":\"factsheet\"} )\n",
    "\n",
    "text = None\n",
    "\n",
    "for tag_table in result_findall :\n",
    "    \n",
    "    if 'ลักษณะธุรกิจ' in tag_table.get_text() :\n",
    "        td_tag = tag_table.find('td',{\"class\":\"factsheet\"})\n",
    "        if td_tag :\n",
    "            text = td_tag.get_text()\n",
    "            \n",
    "print(text)    \n",
    "\n"
   ]
  },
  {
   "cell_type": "code",
   "execution_count": 35,
   "id": "84b96a64-f18d-439f-918e-c2caf426fcb5",
   "metadata": {},
   "outputs": [
    {
     "name": "stdout",
     "output_type": "stream",
     "text": [
      "https://www.set.or.th/set/factsheet.do?symbol=BEM&ssoPageId=3&language=th&country=TH\n",
      "https://www.set.or.th/set/factsheet.do?symbol=PTT&ssoPageId=3&language=th&country=TH\n",
      "https://www.set.or.th/set/factsheet.do?symbol=AIMIRT&ssoPageId=3&language=th&country=TH\n",
      "https://www.set.or.th/set/factsheet.do?symbol=DTAC&ssoPageId=3&language=th&country=TH\n",
      "https://www.set.or.th/set/factsheet.do?symbol=BDMS&ssoPageId=3&language=th&country=TH\n"
     ]
    }
   ],
   "source": [
    "stocks = ['BEM','PTT','AIMIRT','DTAC','BDMS']\n",
    "\n",
    "for stock in stocks :\n",
    "    url = f'https://www.set.or.th/set/factsheet.do?symbol={stock }&ssoPageId=3&language=th&country=TH'\n",
    "    print(url)\n",
    "\n"
   ]
  },
  {
   "cell_type": "code",
   "execution_count": 11,
   "id": "ba0cd91f-1034-46c5-a6e9-9f2365059000",
   "metadata": {},
   "outputs": [
    {
     "name": "stdout",
     "output_type": "stream",
     "text": [
      "BEM : ก่อสร้างและบริหารทางพิเศษและบริหารจัดการโครงการระบบขนส่งมวลชนด้วยรถไฟฟ้า รวมถึงธุรกิจอื่นที่เกี่ยวข้อง\n",
      "PTT : ธุรกิจปิโตรเลียมและปิโตรเคมีครบวงจร โดยผ่านธุรกิจที่ดำเนินงานเองและธุรกิจที่ลงทุนผ่านบริษัทในกลุ่ม ได้แก่ การสำรวจและผลิต จัดหาและจัดจำหน่าย ขนส่ง และแยกก๊าซธรรมชาติ ดำเนินกิจการค้าระหว่างประเทศสำหรับผลิตภัณฑ์น้ำมันและปิโตรเคมี และมีการลงทุนในธุรกิจการกลั่นและปิโตรเคมีในประเทศ และดำเนินธุรกิจที่เกี่ยวข้องอื่นๆ ทั้งในและต่างประเทศ\n",
      "AIMIRT : ลงทุนในกรรมสิทธิ์ สิทธิการเช่า และสิทธิการเช่าช่วงในที่ดิน อาคารคลังสินค้า อาคารคลังห้องเย็น และถังเก็บสารเคมีเหลว รวมถึงอสังหาริมทรัพย์อื่นใดที่เกี่ยวข้องกับอสังหาริมทรัพย์ที่กองทรัสต์เข้าลงทุน\n",
      "DTAC : ดำเนินธุรกิจให้บริการโทรคมนาคมและบริการอื่นๆ ที่เกี่ยวข้อง\n",
      "BDMS : บริษัทเป็นผู้ประกอบการธุรกิจโรงพยาบาลเอกชนขนาดใหญ่ของประเทศ โดยมีโรงพยาบาลเครือข่ายในไทยและกัมพูชา ดำเนินการภายใต้ชื่อโรงพยาบาล 6 กลุ่ม คือ กลุ่มโรงพยาบาลกรุงเทพ  กลุ่มโรงพยาบาลสมิติเวช โรงพยาบาลบี เอ็น เอช  กลุ่มโรงพยาบาลพญาไท  กลุ่มโรงพยาบาลเปาโล และกลุ่มโรงพยาบาลรอยัล นอกจากนี้เครือข่ายของบริษัท กรุงเทพดุสิตเวชการ จำกัด (มหาชน) ยังรวมถึงธุรกิจที่ให้การสนับสนุนด้านการแพทย์ ได้แก่  ธุรกิจห้องปฏิบัติการทางการแพทย์  ธุรกิจผลิตยาและธุรกิจผลิตน้ำเกลือ เป็นต้น\n"
     ]
    }
   ],
   "source": [
    "import time\n",
    "\n",
    "\n",
    "def get_info(sname) :\n",
    "    \n",
    "    xurl = f'https://www.set.or.th/set/factsheet.do?symbol={sname}&ssoPageId=3&language=th&country=TH'\n",
    "    html = requests.get(xurl)\n",
    "    bs = BeautifulSoup(html.content, \"html.parser\")\n",
    "    result_findall = bs.find_all('table',{\"border\":\"0\" ,\"cellpadding\":\"0\", \"cellspacing\":\"0\",\"class\":\"factsheet\"} )\n",
    "\n",
    "    text = None\n",
    "    for tag_table in result_findall :\n",
    "\n",
    "        if 'ลักษณะธุรกิจ' in tag_table.get_text() :\n",
    "            td_tag = tag_table.find('td',{\"class\":\"factsheet\"})\n",
    "            if td_tag :\n",
    "                text = td_tag.get_text()\n",
    "                return text\n",
    "            else :\n",
    "                return ''\n",
    "  \n",
    "\n",
    "stocks = ['BEM','PTT','AIMIRT','DTAC','BDMS']\n",
    "Ltexts  = []\n",
    "\n",
    "for stock_name in stocks :\n",
    "    info = get_info(stock_name)\n",
    "    print(stock_name,':',info)\n",
    "    Ltexts.append(info)\n",
    "  \n"
   ]
  },
  {
   "cell_type": "code",
   "execution_count": 12,
   "id": "975c2d9c-f9a0-4d4a-aada-d95fbceded76",
   "metadata": {},
   "outputs": [
    {
     "data": {
      "text/html": [
       "<div>\n",
       "<style scoped>\n",
       "    .dataframe tbody tr th:only-of-type {\n",
       "        vertical-align: middle;\n",
       "    }\n",
       "\n",
       "    .dataframe tbody tr th {\n",
       "        vertical-align: top;\n",
       "    }\n",
       "\n",
       "    .dataframe thead th {\n",
       "        text-align: right;\n",
       "    }\n",
       "</style>\n",
       "<table border=\"1\" class=\"dataframe\">\n",
       "  <thead>\n",
       "    <tr style=\"text-align: right;\">\n",
       "      <th></th>\n",
       "      <th>name</th>\n",
       "      <th>info</th>\n",
       "    </tr>\n",
       "  </thead>\n",
       "  <tbody>\n",
       "    <tr>\n",
       "      <th>0</th>\n",
       "      <td>BEM</td>\n",
       "      <td>ก่อสร้างและบริหารทางพิเศษและบริหารจัดการโครงกา...</td>\n",
       "    </tr>\n",
       "    <tr>\n",
       "      <th>1</th>\n",
       "      <td>PTT</td>\n",
       "      <td>ธุรกิจปิโตรเลียมและปิโตรเคมีครบวงจร โดยผ่านธุร...</td>\n",
       "    </tr>\n",
       "    <tr>\n",
       "      <th>2</th>\n",
       "      <td>AIMIRT</td>\n",
       "      <td>ลงทุนในกรรมสิทธิ์ สิทธิการเช่า และสิทธิการเช่า...</td>\n",
       "    </tr>\n",
       "    <tr>\n",
       "      <th>3</th>\n",
       "      <td>DTAC</td>\n",
       "      <td>ดำเนินธุรกิจให้บริการโทรคมนาคมและบริการอื่นๆ ท...</td>\n",
       "    </tr>\n",
       "    <tr>\n",
       "      <th>4</th>\n",
       "      <td>BDMS</td>\n",
       "      <td>บริษัทเป็นผู้ประกอบการธุรกิจโรงพยาบาลเอกชนขนาด...</td>\n",
       "    </tr>\n",
       "  </tbody>\n",
       "</table>\n",
       "</div>"
      ],
      "text/plain": [
       "     name                                               info\n",
       "0     BEM  ก่อสร้างและบริหารทางพิเศษและบริหารจัดการโครงกา...\n",
       "1     PTT  ธุรกิจปิโตรเลียมและปิโตรเคมีครบวงจร โดยผ่านธุร...\n",
       "2  AIMIRT  ลงทุนในกรรมสิทธิ์ สิทธิการเช่า และสิทธิการเช่า...\n",
       "3    DTAC  ดำเนินธุรกิจให้บริการโทรคมนาคมและบริการอื่นๆ ท...\n",
       "4    BDMS  บริษัทเป็นผู้ประกอบการธุรกิจโรงพยาบาลเอกชนขนาด..."
      ]
     },
     "execution_count": 12,
     "metadata": {},
     "output_type": "execute_result"
    }
   ],
   "source": [
    "df = pd.DataFrame({'name':stocks,'info':Ltexts})\n",
    "df"
   ]
  },
  {
   "cell_type": "code",
   "execution_count": null,
   "id": "ecfc7fcb-60d5-4130-bfaa-2f50ff0e7630",
   "metadata": {},
   "outputs": [],
   "source": []
  }
 ],
 "metadata": {
  "interpreter": {
   "hash": "97879d2e69e7cd290b97a5297f1f5035bdddfbfb0ef00f9ed6d91c62d6551b84"
  },
  "kernelspec": {
   "display_name": "Python 3",
   "language": "python",
   "name": "python3"
  },
  "language_info": {
   "codemirror_mode": {
    "name": "ipython",
    "version": 3
   },
   "file_extension": ".py",
   "mimetype": "text/x-python",
   "name": "python",
   "nbconvert_exporter": "python",
   "pygments_lexer": "ipython3",
   "version": "3.8.11"
  }
 },
 "nbformat": 4,
 "nbformat_minor": 5
}
