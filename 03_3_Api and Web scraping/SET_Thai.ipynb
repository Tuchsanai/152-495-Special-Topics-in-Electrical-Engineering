{
 "cells": [
  {
   "cell_type": "markdown",
   "id": "49f49913-d0f2-4266-921d-eba061210312",
   "metadata": {},
   "source": [
    "# สรุปข้อสนเทศบริษัทจดทะเบียน\n",
    "\n",
    "https://www.set.or.th/set/factsheet.do?symbol=PTT&ssoPageId=3&language=th&country=TH"
   ]
  },
  {
   "cell_type": "markdown",
   "id": "6a776e89-be02-44dd-9577-a89d1f94ae5b",
   "metadata": {},
   "source": [
    "<td class=\"factsheet\">ธุรกิจปิโตรเลียมและปิโตรเคมีครบวงจร โดยผ่านธุรกิจที่ดำเนินงานเองและธุรกิจที่ลงทุนผ่านบริษัทในกลุ่ม ได้แก่ การสำรวจและผลิต จัดหาและจัดจำหน่าย ขนส่ง และแยกก๊าซธรรมชาติ ดำเนินกิจการค้าระหว่างประเทศสำหรับผลิตภัณฑ์น้ำมันและปิโตรเคมี และมีการลงทุนในธุรกิจการกลั่นและปิโตรเคมีในประเทศ และดำเนินธุรกิจที่เกี่ยวข้องอื่นๆ ทั้งในและต่างประเทศ</td>"
   ]
  },
  {
   "cell_type": "code",
   "execution_count": 3,
   "id": "761b79e5-da78-42dd-ae58-367c8c79f1e1",
   "metadata": {},
   "outputs": [
    {
     "name": "stdout",
     "output_type": "stream",
     "text": [
      "Collecting beautifulsoup4\n",
      "  Downloading beautifulsoup4-4.10.0-py3-none-any.whl (97 kB)\n",
      "\u001b[K     |████████████████████████████████| 97 kB 2.3 MB/s eta 0:00:011\n",
      "\u001b[?25hCollecting soupsieve>1.2\n",
      "  Downloading soupsieve-2.2.1-py3-none-any.whl (33 kB)\n",
      "Installing collected packages: soupsieve, beautifulsoup4\n",
      "Successfully installed beautifulsoup4-4.10.0 soupsieve-2.2.1\n"
     ]
    }
   ],
   "source": [
    "# Install beautifulsoup4\n",
    "!pip install beautifulsoup4"
   ]
  },
  {
   "cell_type": "code",
   "execution_count": 2,
   "id": "11222dfb-b57f-46b0-bf70-3871234e6c97",
   "metadata": {},
   "outputs": [],
   "source": [
    "from bs4 import BeautifulSoup\n",
    "import requests"
   ]
  },
  {
   "cell_type": "code",
   "execution_count": 3,
   "id": "4b1c4426-0107-4607-a98a-8e5e38bef1c2",
   "metadata": {},
   "outputs": [],
   "source": [
    "url = 'https://www.set.or.th/set/factsheet.do?symbol=PTT&ssoPageId=3&language=th&country=TH'\n",
    "\n",
    "html = requests.get(url)\n",
    "bs = BeautifulSoup(html.content, \"html.parser\")\n",
    "#print(bs.prettify())"
   ]
  },
  {
   "cell_type": "code",
   "execution_count": 6,
   "id": "b5c35cca-5c55-4d9a-8ed2-0e8942cc40f4",
   "metadata": {},
   "outputs": [
    {
     "name": "stdout",
     "output_type": "stream",
     "text": [
      "Price (บาท)\n",
      "52 Week High/Low\n",
      "P/E (X)\n",
      "P/BV (X)\n",
      "Paid-up (ลบ.)\n",
      "Market Cap (ลบ.)\n",
      "EV (ลบ.)\n",
      "EBITDA (ลบ.)\n",
      "EV/EBITDA\n",
      "ข่าวล่าสุด\n",
      "ข้อมูลเบื้องต้น\n",
      "ลักษณะธุรกิจ\n",
      "5 Yr Price Performance  (Adjusted Price)\n",
      "อัตราผลตอบแทนจากราคาย้อนหลัง (Adjusted Price)\n",
      "เปรียบเทียบหลักทรัพย์ (%)\n",
      "เปรียบเทียบหมวดอุตสาหกรรม (%)\n",
      "เปรียบเทียบตลาด (%)\n",
      "ผู้ถือหุ้นรายใหญ่ 10 อันดับแรก(@30 ก.ย. 2564)\n",
      "จำนวนหุ้น\n",
      "%\n",
      "คณะกรรมการ\n",
      "ตำแหน่ง\n",
      "ข้อมูลสถิติ\n",
      "YTD27 ต.ค. 2564\n",
      "256330 ธ.ค. 2563\n",
      "256230 ธ.ค. 2562\n",
      "อัตราผลตอบแทน\n",
      "YTD \n",
      "2563 \n",
      "2562 \n",
      "การจ่ายปันผล\n",
      "ข้อมูลงบการเงิน\n",
      "งบแสดงฐานะการเงิน (ลบ.)\n",
      "6M/2564 (01/01/64  -30/06/64) \n",
      "6M/2563 (01/01/63  -30/06/63) \n",
      "2563 (01/01/63  -31/12/63) \n",
      "2562 (01/01/62  -31/12/62) \n",
      "2561 (01/01/61  -31/12/61) \n",
      "งบกำไรขาดทุนเบ็ดเสร็จ (ลบ.)\n",
      "6M/2564 (01/01/64  -30/06/64) \n",
      "6M/2563 (01/01/63  -30/06/63) \n",
      "2563 (01/01/63  -31/12/63) \n",
      "2562 (01/01/62  -31/12/62) \n",
      "2561 (01/01/61  -31/12/61) \n",
      "งบกระแสเงินสด (ลบ.)\n",
      "6M/2564 (01/01/64  -30/06/64) \n",
      "6M/2563 (01/01/63  -30/06/63) \n",
      "2563 (01/01/63  -31/12/63) \n",
      "2562 (01/01/62  -31/12/62) \n",
      "2561 (01/01/61  -31/12/61) \n",
      "อัตราส่วนทางการเงิน\n",
      "6M/2564 \n",
      "6M/2563 \n",
      "2563 \n",
      "2562 \n",
      "การเปลี่ยนแปลงทุน (3 ปีล่าสุด)\n",
      "อัตราการเปลี่ยนแปลง (%)\n",
      "6M/2564 \n",
      "6M/2563 \n",
      "2563 \n",
      "2562 \n",
      "วงจรเงินสด\n",
      "6M/2564 \n",
      "6M/2563 \n",
      "2563 \n",
      "2562 \n",
      "การขึ้นเครื่องหมาย (ล่าสุด)\n",
      "Market Alert (ล่าสุด)\n",
      "หลักทรัพย์อื่นๆ\n"
     ]
    }
   ],
   "source": [
    "result_findall = bs.find_all('td', {'class':'factsheet-head'})\n",
    "\n",
    "\n",
    "for tag in result_findall :\n",
    "    print(tag.get_text())\n",
    "\n"
   ]
  },
  {
   "cell_type": "code",
   "execution_count": null,
   "id": "68323d81-a2f6-4c49-90d2-5e9f03ebbba8",
   "metadata": {},
   "outputs": [],
   "source": [
    "print(len(result_findall))"
   ]
  }
 ],
 "metadata": {
  "interpreter": {
   "hash": "97879d2e69e7cd290b97a5297f1f5035bdddfbfb0ef00f9ed6d91c62d6551b84"
  },
  "kernelspec": {
   "display_name": "Python 3.9.2 64-bit ('torch': conda)",
   "name": "python3"
  },
  "language_info": {
   "codemirror_mode": {
    "name": "ipython",
    "version": 3
   },
   "file_extension": ".py",
   "mimetype": "text/x-python",
   "name": "python",
   "nbconvert_exporter": "python",
   "pygments_lexer": "ipython3",
   "version": "3.9.2"
  }
 },
 "nbformat": 4,
 "nbformat_minor": 5
}
